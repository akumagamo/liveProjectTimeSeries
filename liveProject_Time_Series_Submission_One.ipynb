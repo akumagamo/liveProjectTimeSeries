{
  "nbformat": 4,
  "nbformat_minor": 0,
  "metadata": {
    "colab": {
      "name": "liveProject Time Series Submission One.ipynb",
      "provenance": []
    },
    "kernelspec": {
      "name": "python3",
      "display_name": "Python 3"
    }
  },
  "cells": [
    {
      "cell_type": "markdown",
      "metadata": {
        "id": "5kmDnWQ_iiib"
      },
      "source": [
        "# Initialize Libs"
      ]
    },
    {
      "cell_type": "code",
      "metadata": {
        "id": "Ui_wcwkthx6o"
      },
      "source": [
        "\r\n",
        "import pandas as pd\r\n",
        "import matplotlib.pyplot as plt\r\n",
        "import statsmodels"
      ],
      "execution_count": 2,
      "outputs": []
    },
    {
      "cell_type": "markdown",
      "metadata": {
        "id": "7vkoxmNrj7SZ"
      },
      "source": [
        "# CONSTANTS"
      ]
    },
    {
      "cell_type": "code",
      "metadata": {
        "id": "j4TgOv-0j7zN"
      },
      "source": [
        "BASE_DIR = '/content/drive/MyDrive/Colab Notebooks/time/submission1/'"
      ],
      "execution_count": 3,
      "outputs": []
    },
    {
      "cell_type": "markdown",
      "metadata": {
        "id": "DRF7ptdSi1jY"
      },
      "source": [
        "# Load Energy and Temp Dataset"
      ]
    },
    {
      "cell_type": "code",
      "metadata": {
        "id": "FEOw9MMtl2Q_"
      },
      "source": [
        "temp_part_one = pd.read_csv(BASE_DIR + 'hr_temp_20170201-20200131_subset[1].csv') \r\n",
        "temp_part_two = pd.read_csv(BASE_DIR + 'hr_temp_20200201-20200229_subset[1].csv') \r\n",
        "meter_data = pd.read_csv(BASE_DIR + 'hrl_load_metered_-_20170201-20200131[1].csv') \r\n",
        "\r\n"
      ],
      "execution_count": 19,
      "outputs": []
    },
    {
      "cell_type": "markdown",
      "metadata": {
        "id": "KPEAkj_srY_5"
      },
      "source": [
        "# Explore Data"
      ]
    },
    {
      "cell_type": "code",
      "metadata": {
        "colab": {
          "base_uri": "https://localhost:8080/"
        },
        "id": "-sNX1KCurZKt",
        "outputId": "5fdb073c-2b77-49fc-8633-420331257796"
      },
      "source": [
        "print(temp_part_one.head())\r\n",
        "print(temp_part_one.tail())\r\n",
        "print (meter_data.head())\r\n",
        "print (meter_data.tail())\r\n"
      ],
      "execution_count": 20,
      "outputs": [
        {
          "output_type": "stream",
          "text": [
            "       STATION                 DATE  ... SOURCE  HourlyDryBulbTemperature\n",
            "0  72520514762  2017-02-01T00:53:00  ...      7                      37.0\n",
            "1  72520514762  2017-02-01T01:53:00  ...      7                      37.0\n",
            "2  72520514762  2017-02-01T02:53:00  ...      7                      36.0\n",
            "3  72520514762  2017-02-01T03:53:00  ...      7                      36.0\n",
            "4  72520514762  2017-02-01T04:53:00  ...      7                      36.0\n",
            "\n",
            "[5 rows x 5 columns]\n",
            "           STATION                 DATE  ... SOURCE  HourlyDryBulbTemperature\n",
            "26275  72520514762  2020-01-31T19:53:00  ...      7                      34.0\n",
            "26276  72520514762  2020-01-31T20:53:00  ...      7                      33.0\n",
            "26277  72520514762  2020-01-31T21:53:00  ...      7                      33.0\n",
            "26278  72520514762  2020-01-31T22:53:00  ...      7                      33.0\n",
            "26279  72520514762  2020-01-31T23:53:00  ...      7                      34.0\n",
            "\n",
            "[5 rows x 5 columns]\n",
            "  datetime_beginning_utc datetime_beginning_ept  ...        mw is_verified\n",
            "0          2/1/2017 5:00          2/1/2017 0:00  ...  1419.881        True\n",
            "1          2/1/2017 6:00          2/1/2017 1:00  ...  1379.505        True\n",
            "2          2/1/2017 7:00          2/1/2017 2:00  ...  1366.106        True\n",
            "3          2/1/2017 8:00          2/1/2017 3:00  ...  1364.453        True\n",
            "4          2/1/2017 9:00          2/1/2017 4:00  ...  1391.265        True\n",
            "\n",
            "[5 rows x 8 columns]\n",
            "      datetime_beginning_utc datetime_beginning_ept  ...        mw is_verified\n",
            "26275          2/1/2020 0:00        1/31/2020 19:00  ...  1618.484        True\n",
            "26276          2/1/2020 1:00        1/31/2020 20:00  ...  1580.925        True\n",
            "26277          2/1/2020 2:00        1/31/2020 21:00  ...  1545.354        True\n",
            "26278          2/1/2020 3:00        1/31/2020 22:00  ...  1478.832        True\n",
            "26279          2/1/2020 4:00        1/31/2020 23:00  ...  1405.188        True\n",
            "\n",
            "[5 rows x 8 columns]\n"
          ],
          "name": "stdout"
        }
      ]
    },
    {
      "cell_type": "markdown",
      "metadata": {
        "id": "ahVkikC0rnmN"
      },
      "source": [
        "# CleanUp Data & Visualize Interpolation"
      ]
    },
    {
      "cell_type": "code",
      "metadata": {
        "colab": {
          "base_uri": "https://localhost:8080/",
          "height": 1000
        },
        "id": "xdiICkBArn-r",
        "outputId": "58a94179-481d-420a-9121-ca4bca260178"
      },
      "source": [
        "temp_part_one['datetime_conv'] = pd.to_datetime(temp_part_one['DATE']) \r\n",
        "temp_part_one = temp_part_one.rename(columns={'HourlyDryBulbTemperature':'temp'})\r\n",
        "clean_temp = temp_part_one.drop(['DATE', 'REPORT_TYPE', 'SOURCE', 'STATION'], axis=1)\r\n",
        "clean_temp = clean_temp.join(meter_data['mw'])\r\n",
        "clean_temp['hour'] = clean_temp['datetime_conv'].map(lambda x: x.hour)\r\n",
        "clean_temp['weekday'] = clean_temp['datetime_conv'].map(lambda x: x.dayofweek)\r\n",
        "clean_temp['month'] = clean_temp['datetime_conv'].map(lambda x: x.month)\r\n",
        "clean_temp['year'] = clean_temp['datetime_conv'].map(lambda x: x.year)\r\n",
        "clean_temp = clean_temp.set_index('datetime_conv')\r\n",
        "\r\n",
        "print(clean_temp[pd.isna(clean_temp['temp'])].head())\r\n",
        "\r\n",
        "clean_temp[(clean_temp['year']==2018) & (clean_temp['month'] == 12)].plot(y='temp')\r\n",
        "clean_temp = clean_temp.interpolate()\r\n",
        "clean_temp[(clean_temp['year']==2018) & (clean_temp['month'] == 12)].plot(y='temp')\r\n"
      ],
      "execution_count": 60,
      "outputs": [
        {
          "output_type": "stream",
          "text": [
            "                     temp        mw  hour  weekday  month  year\n",
            "datetime_conv                                                  \n",
            "2018-10-25 12:53:00   NaN  1569.389    12        3     10  2018\n",
            "2018-12-25 02:53:00   NaN  1269.577     2        1     12  2018\n",
            "2018-12-25 03:53:00   NaN  1263.540     3        1     12  2018\n",
            "2018-12-25 04:53:00   NaN  1271.892     4        1     12  2018\n",
            "2018-12-25 05:53:00   NaN  1304.021     5        1     12  2018\n",
            "2018-12-25 06:53:00   NaN  1340.344     6        1     12  2018\n",
            "2018-12-25 07:53:00   NaN  1380.992     7        1     12  2018\n",
            "2018-12-25 08:53:00   NaN  1395.445     8        1     12  2018\n",
            "2018-12-25 09:53:00   NaN  1422.708     9        1     12  2018\n",
            "2018-12-25 10:53:00   NaN  1438.822    10        1     12  2018\n",
            "2018-12-25 11:53:00   NaN  1413.274    11        1     12  2018\n",
            "2018-12-25 12:53:00   NaN  1394.176    12        1     12  2018\n",
            "2018-12-25 13:53:00   NaN  1375.023    13        1     12  2018\n",
            "2018-12-25 14:53:00   NaN  1354.344    14        1     12  2018\n",
            "2018-12-25 15:53:00   NaN  1348.573    15        1     12  2018\n",
            "2018-12-25 16:53:00   NaN  1379.544    16        1     12  2018\n",
            "2018-12-25 17:53:00   NaN  1455.665    17        1     12  2018\n",
            "2018-12-25 18:53:00   NaN  1462.390    18        1     12  2018\n",
            "2018-12-25 19:53:00   NaN  1462.030    19        1     12  2018\n",
            "2018-12-25 20:53:00   NaN  1461.466    20        1     12  2018\n",
            "2018-12-25 21:53:00   NaN  1448.051    21        1     12  2018\n",
            "2018-12-25 22:53:00   NaN  1406.473    22        1     12  2018\n",
            "2018-12-25 23:53:00   NaN  1345.258    23        1     12  2018\n",
            "2018-12-26 00:53:00   NaN  1301.272     0        2     12  2018\n",
            "2018-12-26 01:53:00   NaN  1267.715     1        2     12  2018\n",
            "2018-12-26 02:53:00   NaN  1264.119     2        2     12  2018\n",
            "2018-12-26 03:53:00   NaN  1259.701     3        2     12  2018\n",
            "2018-12-26 04:53:00   NaN  1279.052     4        2     12  2018\n",
            "2018-12-26 05:53:00   NaN  1332.444     5        2     12  2018\n",
            "2018-12-26 08:53:00   NaN  1526.808     8        2     12  2018\n",
            "2018-12-26 09:53:00   NaN  1558.543     9        2     12  2018\n",
            "2018-12-26 10:53:00   NaN  1564.532    10        2     12  2018\n",
            "2018-12-26 11:53:00   NaN  1543.588    11        2     12  2018\n",
            "2019-05-26 01:53:00   NaN  1216.115     1        6      5  2019\n",
            "2019-05-26 02:53:00   NaN  1174.187     2        6      5  2019\n",
            "2019-05-26 03:53:00   NaN  1161.376     3        6      5  2019\n",
            "2019-05-26 07:53:00   NaN  1330.041     7        6      5  2019\n"
          ],
          "name": "stdout"
        },
        {
          "output_type": "execute_result",
          "data": {
            "text/plain": [
              "<matplotlib.axes._subplots.AxesSubplot at 0x7f83363fe278>"
            ]
          },
          "metadata": {
            "tags": []
          },
          "execution_count": 60
        },
        {
          "output_type": "display_data",
          "data": {
            "image/png": "[encoded data removed]",
            "text/plain": [
              "<Figure size 432x288 with 1 Axes>"
            ]
          },
          "metadata": {
            "tags": [],
            "needs_background": "light"
          }
        },
        {
          "output_type": "display_data",
          "data": {
            "image/png": "[encoded data removed]",
            "text/plain": [
              "<Figure size 432x288 with 1 Axes>"
            ]
          },
          "metadata": {
            "tags": [],
            "needs_background": "light"
          }
        }
      ]
    },
    {
      "cell_type": "markdown",
      "metadata": {
        "id": "GuJG1ZVexLpX"
      },
      "source": [
        "# Split Test and TrainData"
      ]
    },
    {
      "cell_type": "code",
      "metadata": {
        "colab": {
          "base_uri": "https://localhost:8080/"
        },
        "id": "z8kP6mlSxMF5",
        "outputId": "572c0163-0625-4bab-bf93-1653a515ecd3"
      },
      "source": [
        "DATA_SPLIT_DATE = '2020-01-01'\r\n",
        "\r\n",
        "train_data = clean_temp[clean_temp.index < DATA_SPLIT_DATE]\r\n",
        "test_data = clean_temp[clean_temp.index >= DATA_SPLIT_DATE]\r\n",
        "\r\n",
        "print('TRAIN DATA')\r\n",
        "print(train_data.head())\r\n",
        "print(train_data.shape)\r\n",
        "\r\n",
        "print('TEST DATA')\r\n",
        "print(test_data.head())\r\n",
        "print(test_data.shape)\r\n",
        "\r\n",
        "\r\n"
      ],
      "execution_count": 70,
      "outputs": [
        {
          "output_type": "stream",
          "text": [
            "TRAIN DATA\n",
            "                     temp        mw  hour  weekday  month  year\n",
            "datetime_conv                                                  \n",
            "2017-02-01 00:53:00  37.0  1419.881     0        2      2  2017\n",
            "2017-02-01 01:53:00  37.0  1379.505     1        2      2  2017\n",
            "2017-02-01 02:53:00  36.0  1366.106     2        2      2  2017\n",
            "2017-02-01 03:53:00  36.0  1364.453     3        2      2  2017\n",
            "2017-02-01 04:53:00  36.0  1391.265     4        2      2  2017\n",
            "(25536, 6)\n",
            "TEST DATA\n",
            "                     temp        mw  hour  weekday  month  year\n",
            "datetime_conv                                                  \n",
            "2020-01-01 00:53:00  31.0  1363.428     0        2      1  2020\n",
            "2020-01-01 01:53:00  29.0  1335.975     1        2      1  2020\n",
            "2020-01-01 02:53:00  30.0  1296.817     2        2      1  2020\n",
            "2020-01-01 03:53:00  30.0  1288.403     3        2      1  2020\n",
            "2020-01-01 04:53:00  31.0  1292.263     4        2      1  2020\n",
            "(744, 6)\n"
          ],
          "name": "stdout"
        }
      ]
    },
    {
      "cell_type": "code",
      "metadata": {
        "colab": {
          "base_uri": "https://localhost:8080/"
        },
        "id": "WHBFKlAstHVj",
        "outputId": "2bac9862-5f20-4c7f-958b-228e548ad29e"
      },
      "source": [
        ""
      ],
      "execution_count": 69,
      "outputs": [
        {
          "output_type": "execute_result",
          "data": {
            "text/plain": [
              "(25536, 6)"
            ]
          },
          "metadata": {
            "tags": []
          },
          "execution_count": 69
        }
      ]
    },
    {
      "cell_type": "code",
      "metadata": {
        "id": "KiKvJ1Tq2FcV"
      },
      "source": [
        ""
      ],
      "execution_count": null,
      "outputs": []
    }
  ]
}